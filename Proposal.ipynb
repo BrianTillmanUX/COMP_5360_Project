{
 "cells": [
  {
   "cell_type": "markdown",
   "metadata": {},
   "source": [
    "# Proposal"
   ]
  },
  {
   "cell_type": "markdown",
   "metadata": {},
   "source": [
    "### Basic Info\n",
    "#### Marketing Wine, \n",
    "<table>\n",
    "<tr><th>names</th><th>e-mail addresses</th><th>UIDs</th></tr>\n",
    "<tr><th>Brian Tillman</th><th>@utah.edu</th><th></th></tr>\n",
    "<tr><th>Li Jiada</th><th>@utah.edu</th><th></th></tr>\n",
    "<tr><th>Trevor Olsen</th><th>u0585822@utah.edu</th><th>u0585822</th></tr>\n",
    "</table>"
   ]
  },
  {
   "cell_type": "markdown",
   "metadata": {},
   "source": [
    "## Background and Motivation. \n",
    "#### Discuss your motivations and reasons for choosing this project, especially any background or research interests that may have influenced your decision.\n",
    "Brain ..... <br>\n",
    "Li  ....... <br>\n",
    "Trevor has a background in marketing research. He is interested in developing models for pricing products and identifying attributes to use in marketing."
   ]
  },
  {
   "cell_type": "markdown",
   "metadata": {},
   "source": [
    "## Project Objectives. \n",
    "#### Provide the primary questions you are trying to answer in your project.\n",
    "What are the key drivers for wine points and wine price?<br>\n",
    "Which wines are systematically over or under valued in terms of price? <br>\n",
    "What attributes per wine should you use to market them?<br>\n",
    "<br>\n",
    "#### What would you like to learn and accomplish?\n",
    "Learn more about NLP. Learn more about ensemble methods.<br>\n",
    "<br>\n",
    "#### List the benefits."
   ]
  },
  {
   "cell_type": "markdown",
   "metadata": {},
   "source": [
    "## Data. \n",
    "#### From where and how are you collecting your data? If appropriate, provide a link to your data sources.\n",
    "We will be collecting our data from https://www.winemag.com. They have 240,373 reviews of wines.\n",
    "\n",
    "<br>Url\n",
    "<br>Title\n",
    "<br>Points\n",
    "<br>Description\n",
    "<br>Price\n",
    "<br>Variety\n",
    "<br>Appellation\n",
    "<br>Winery\n",
    "<br>Alcohol\n",
    "<br>Bottle Size\n",
    "<br>Category\n",
    "<br>Importer\n",
    "<br>Date Published\n",
    "<br>User Avg Rating\n",
    "<br>Taster"
   ]
  },
  {
   "cell_type": "markdown",
   "metadata": {},
   "source": [
    "## Data Processing. \n",
    "#### Do you expect to do substantial data cleanup or data extraction?\n",
    "We will need to determine how to handle missing data. Which variables does it make sense to impute and what not.<br>\n",
    "Standardize Bottle Size.<br>\n",
    "<br>\n",
    "#### What quantities do you plan to derive from your data?\n",
    "Price per unit volume.<br>\n",
    "<br>\n",
    "#### How will data processing be implemented?"
   ]
  },
  {
   "cell_type": "markdown",
   "metadata": {},
   "source": [
    "## Exploratory Analysis.\n",
    "#### Which methods and visualizations are you planning to use to look at your dataset?\n",
    "\n",
    "NLP on the reviews.<br>\n",
    "Lasso to identify important features.<br>\n",
    "PCA and FA for finding themes.<br>\n",
    "Clustering to explore patterns.<br>\n",
    "Profiling on clusters. <br>\n",
    "Word clouds on clusters. <br>"
   ]
  },
  {
   "cell_type": "markdown",
   "metadata": {},
   "source": [
    "## Analysis Methodology. \n",
    "#### How are you planning to analyze your data?\n",
    "Generalised linear models, Generalised additive models, Penalised linear models, Robust linear models, random forests, gradient boosting machines, k-NNs, SVM, PCA, FA, SEMs, Bayesian Networks, and Neural Networks. "
   ]
  },
  {
   "cell_type": "markdown",
   "metadata": {},
   "source": [
    "## Project Schedule. \n",
    "Make sure that you plan your work so that you can avoid a big rush right before the final project deadline, and delegate different modules and responsibilities among your team members. Write this in terms of weekly deadlines.\n",
    "<table>\n",
    "\n",
    "\n",
    "<tr><th>Date</th><th>Item</th><th>Assigned</th><th>Details</th></tr>\n",
    "<tr>\n",
    "<td>Before Apr 1, 2018</td><td>Acquire Data</td>\n",
    "<td></td>\n",
    "<td>\n",
    "</td>\n",
    "</tr>\n",
    "\n",
    "<tr>\n",
    "<td>Before Apr 1, 2018</td><td>Clean Data</td>\n",
    "<td></td>\n",
    "<td>\n",
    "</td>\n",
    "</tr>\n",
    "\n",
    "<tr>\n",
    "<td>Before Apr 1, 2018</td><td>Explore Data</td>\n",
    "<td></td>\n",
    "<td>\n",
    "</td>\n",
    "</tr>\n",
    "\n",
    "<tr>\n",
    "<td>Before Apr 1, 2018</td><td>Start Analysis</td>\n",
    "<td></td>\n",
    "<td>\n",
    "</td>\n",
    "</tr>\n",
    "\n",
    "\n",
    "<tr>\n",
    "<td>Apr 1, 2018</td><td>Project Milestone Due</td>\n",
    "<td></td>\n",
    "<td>\n",
    "<p>\n",
    "For your milestone, we expect you to have acquired, cleaned, and explored your dataset. You should also explain in more detail what will go into your final analysis. Explain deviations from your initial project plan.\n",
    "</p>\n",
    "</td>\n",
    "</tr>\n",
    "\n",
    "<tr>\n",
    "<td>Before Apr 22, 2018</td><td>Finish Analysis</td>\n",
    "<td></td>\n",
    "<td>\n",
    "</td>\n",
    "</tr>\n",
    "\n",
    "<tr>\n",
    "<td>Before Apr 22, 2018</td><td>Document findings</td>\n",
    "<td></td>\n",
    "<td>\n",
    "</td>\n",
    "</tr>\n",
    "\n",
    "<tr>\n",
    "<td>Before Apr 22, 2018</td><td>Create Prediction Tool</td>\n",
    "<td></td>\n",
    "<td>\n",
    "</td>\n",
    "</tr>\n",
    "\n",
    "<tr><td>?</td><td>Project Review with the staff</td><td></td><td></td></tr>\n",
    "<tr>\n",
    "<td>Before Apr 22, 2018</td><td>Develop screen-cast</td>\n",
    "<td></td>\n",
    "<td>\n",
    "<p>You must also include a three minute video including audio walking us through your project. Each team will create a three minute screen-cast with narration showing a demo of your project and/or some slides. You can use any screencast tool of your choice. Please make sure that the sound quality of your video is good. Upload the video to an online video-platform such as YouTube or Vimeo and link to it from your notebook.\n",
    "</p>\n",
    "<p>\n",
    "We will strictly enforce the three minute time limit for the video, so please make sure you are not running longer. Use principles of good storytelling and presentations to get your key points across. Focus the majority of your screencast on your main contributions rather than on technical details. What do you feel is the best part of your project? What insights did you gain? What is the single most important thing you would like your audience to take away? Make sure it is front and center rather than at the end.\n",
    "</p>\n",
    "</td>\n",
    "</tr>\n",
    "<tr>\n",
    "<td>Before Apr 22, 2018</td>\n",
    "<td>Complete peer evaluations</td>\n",
    "<td></td>\n",
    "<td>\n",
    "<p>\n",
    "It is important to provide positive feedback to people who truly worked hard for the good of the team and to also make suggestions to those you perceived not to be working as effectively on team tasks. We ask you to provide an honest assessment of the contributions of the members of your team, including yourself. The feedback you provide should reflect your judgment of each team member’s:\n",
    "</p>\n",
    "<ul>\n",
    "<li>Preparation – were they prepared during team meetings?</li>\n",
    "<li>Contribution – did they contribute productively to the team discussion and work?</li>\n",
    "<li>Respect for others’ ideas – did they encourage others to contribute their ideas?</li>\n",
    "<li>Flexibility – were they flexible when disagreements occurred?</li>\n",
    "</ul>\n",
    "<p>\n",
    "Your teammate’s assessment of your contributions and the accuracy of your self-assessment will be considered as part of your overall project score.\n",
    "</p>\n",
    "</td>\n",
    "</tr>\n",
    "<tr>\n",
    "<td>Apr 22, 2018</td><td>Final Project Due</td>\n",
    "<td></td>\n",
    "<td>\n",
    "<p>\n",
    "For your final project you must complete the analysis in your notebook and present your results in a compelling way.\n",
    "</p>\n",
    "</td>\n",
    "</tr>\n",
    "</tr>\n",
    "<tr>\n",
    "<td>?</td><td>Project Presentation</td>\n",
    "<td></td>\n",
    "<td>\n",
    "<p>\n",
    "Each team will be given a brief slot (~5 minutes) to present their project in one of the two last lectures. Present your analysis questions and your main contributions, but also explain your methods and justify your choices. What do you feel is the best part of your project? What insights did you gain? What is the single most important thing you would like your audience to take away?\n",
    "</p>\n",
    "</td>\n",
    "</tr>\n",
    "</table>"
   ]
  },
  {
   "cell_type": "code",
   "execution_count": null,
   "metadata": {
    "collapsed": true
   },
   "outputs": [],
   "source": []
  }
 ],
 "metadata": {
  "kernelspec": {
   "display_name": "Python 3",
   "language": "python",
   "name": "python3"
  },
  "language_info": {
   "codemirror_mode": {
    "name": "ipython",
    "version": 3
   },
   "file_extension": ".py",
   "mimetype": "text/x-python",
   "name": "python",
   "nbconvert_exporter": "python",
   "pygments_lexer": "ipython3",
   "version": "3.6.2"
  }
 },
 "nbformat": 4,
 "nbformat_minor": 2
}
